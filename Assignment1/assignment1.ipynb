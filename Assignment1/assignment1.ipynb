{
 "cells": [
  {
   "metadata": {},
   "cell_type": "markdown",
   "source": "I was able to successfully implement ",
   "id": "b3818ad4de9b87e0"
  },
  {
   "metadata": {},
   "cell_type": "markdown",
   "source": "Plot 1\n",
   "id": "8522597730b50a0e"
  },
  {
   "metadata": {},
   "cell_type": "markdown",
   "source": "",
   "id": "6bf4929102deeac1"
  },
  {
   "metadata": {},
   "cell_type": "markdown",
   "source": "![loss_funtion](loss_plot.jpg)",
   "id": "ef119fcc177bf466"
  }
 ],
 "metadata": {
  "kernelspec": {
   "display_name": "Python 3",
   "language": "python",
   "name": "python3"
  },
  "language_info": {
   "codemirror_mode": {
    "name": "ipython",
    "version": 2
   },
   "file_extension": ".py",
   "mimetype": "text/x-python",
   "name": "python",
   "nbconvert_exporter": "python",
   "pygments_lexer": "ipython2",
   "version": "2.7.6"
  }
 },
 "nbformat": 4,
 "nbformat_minor": 5
}
