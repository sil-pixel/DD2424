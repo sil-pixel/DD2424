{
 "cells": [
  {
   "metadata": {},
   "cell_type": "markdown",
   "source": "This is the code used to display image\n",
   "id": "b3818ad4de9b87e0"
  },
  {
   "metadata": {},
   "cell_type": "code",
   "outputs": [],
   "execution_count": null,
   "source": [
    "import pickle\n",
    "import numpy as np\n",
    "\n",
    "import matplotlib.pyplot as plt  # Import matplotlib for plotting\n",
    "\n",
    "# Load a batch of training data\n",
    "cifar_dir = 'Datasets/cifar-10-batches-py/'\n",
    "with open(cifar_dir + 'data_batch_1', 'rb') as fo:\n",
    "    dict = pickle.load(fo, encoding='bytes')\n",
    "# Extract the image data and cast to float from the dict dictionary\n",
    "X = dict[b'data'].astype(np.float64) / 255.0\n",
    "X = X.transpose()\n",
    "nn = X.shape[1]\n",
    "\n",
    "# Reshape each image from a column vector to a 3d array\n",
    "X_im = X.reshape((32, 32, 3, nn), order='F')\n",
    "X_im = np.transpose(X_im, (1, 0, 2, 3))  # Fix transpose operation\n",
    "# Display the first 5 images\n",
    "ni = 5\n",
    "fig, axs = plt.subplots(1, 5, figsize=(10, 5))\n",
    "for i in range(ni):\n",
    "    axs[i].imshow(X_im[:, :, :, i])  # Fix incorrect name 'X im'\n",
    "    axs[i].axis('off')  # Fix improper quotation marks\n",
    "\n",
    "plt.pause(0.1)\n"
   ],
   "id": "faeec124076b0b7c"
  },
  {
   "metadata": {},
   "cell_type": "markdown",
   "source": [
    "Exercise 1: Training a multi-linear classifier\n",
    "\n"
   ],
   "id": "8522597730b50a0e"
  }
 ],
 "metadata": {
  "kernelspec": {
   "display_name": "Python 3",
   "language": "python",
   "name": "python3"
  },
  "language_info": {
   "codemirror_mode": {
    "name": "ipython",
    "version": 2
   },
   "file_extension": ".py",
   "mimetype": "text/x-python",
   "name": "python",
   "nbconvert_exporter": "python",
   "pygments_lexer": "ipython2",
   "version": "2.7.6"
  }
 },
 "nbformat": 4,
 "nbformat_minor": 5
}
